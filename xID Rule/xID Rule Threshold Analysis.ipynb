{
 "cells": [
  {
   "cell_type": "code",
   "execution_count": 7,
   "metadata": {},
   "outputs": [],
   "source": [
    "# !pip3 install line_profiler\n",
    "import pandas as pd\n",
    "import os\n",
    "import pyodbc\n",
    "import time\n",
    "from line_profiler import LineProfiler\n",
    "from multiprocessing import Pool"
   ]
  },
  {
   "cell_type": "code",
   "execution_count": 10,
   "metadata": {},
   "outputs": [],
   "source": [
    "conn = pyodbc.connect(\"DSN=CarmelODBCDSII\", autocommit = True)\n",
    "\n",
    "sql_query='select user_id as seller_id from P_AML_KEL_TEMP_T.seller2list'\n",
    "seller_id = pd.read_sql(sql_query, con=conn)"
   ]
  },
  {
   "cell_type": "code",
   "execution_count": 9,
   "metadata": {},
   "outputs": [
    {
     "name": "stderr",
     "output_type": "stream",
     "text": [
      "/usr/local/lib/python3.7/site-packages/numpy/lib/arraysetops.py:569: FutureWarning: elementwise comparison failed; returning scalar instead, but in the future will perform elementwise comparison\n",
      "  mask |= (ar1 == a)\n"
     ]
    },
    {
     "name": "stdout",
     "output_type": "stream",
     "text": [
      "(4750249, 2)\n"
     ]
    }
   ],
   "source": [
    "hash_table=pd.read_csv('data/hash_table.csv',index_col=0)\n",
    "hash_table.buyer_id=hash_table.buyer_id.astype('int')\n",
    "print(hash_table.shape)\n",
    "\n",
    "# sql_query=\\\n",
    "# 'select xid.user_id as buyer_id, xid.link_strtgy_match_hash \\\n",
    "# from incdata_v.USER_LINK_STRTGY_MATCH as xid \\\n",
    "# where xid.link_strtgy_match_hash in (select distinct link_strtgy_match_hash from P_AML_KEL_TEMP_T.matchedhash)'\n",
    "\n",
    "# hash_table = pd.read_sql(sql_query, con=conn)\n",
    "# hash_table.to_csv('data/hash_table.csv')"
   ]
  },
  {
   "cell_type": "code",
   "execution_count": 11,
   "metadata": {},
   "outputs": [],
   "source": [
    "seller_id_list=list(seller_id.seller_id.astype('int'))"
   ]
  },
  {
   "cell_type": "code",
   "execution_count": 44,
   "metadata": {
    "scrolled": true
   },
   "outputs": [],
   "source": [
    "hash_table['hash'] = hash_table['link_strtgy_match_hash'].apply(hash)"
   ]
  },
  {
   "cell_type": "code",
   "execution_count": 49,
   "metadata": {},
   "outputs": [
    {
     "name": "stdout",
     "output_type": "stream",
     "text": [
      "1.097640037536621\n"
     ]
    }
   ],
   "source": [
    "\n",
    "start=time.time()\n",
    "# hash_table[['hash','link_strtgy_match_hash']].head()\n",
    "hash_table['hash'] = hash_table['link_strtgy_match_hash'].apply(hash)\n",
    "end=time.time()\n",
    "print(end-start)"
   ]
  },
  {
   "cell_type": "code",
   "execution_count": 4,
   "metadata": {},
   "outputs": [],
   "source": []
  },
  {
   "cell_type": "code",
   "execution_count": 50,
   "metadata": {},
   "outputs": [
    {
     "name": "stdout",
     "output_type": "stream",
     "text": [
      "The line_profiler extension is already loaded. To reload it, use:\n",
      "  %reload_ext line_profiler\n"
     ]
    }
   ],
   "source": [
    "%load_ext line_profiler\n",
    "def process_func(k):\n",
    "    temp=hash_table.loc[hash_table.hash==k]\n",
    "    output=[]\n",
    "    for i in temp.buyer_id:\n",
    "        if i in seller_id_list:\n",
    "            output.append([(i,j) for j in temp.buyer_id if j != i])\n",
    "    return [item for sublist in output for item in sublist]"
   ]
  },
  {
   "cell_type": "code",
   "execution_count": 43,
   "metadata": {},
   "outputs": [],
   "source": [
    "%lprun -f process_func process_func(hash_table.hash.unique()[142])"
   ]
  },
  {
   "cell_type": "code",
   "execution_count": 87,
   "metadata": {},
   "outputs": [
    {
     "name": "stdout",
     "output_type": "stream",
     "text": [
      "509421922895602295\n",
      "1543331710393340106\n",
      "-6699733011763924496\n",
      "-7742826108410402212\n",
      "5661751196036368974\n",
      "8608316101807604390\n",
      "435673993467575665\n",
      "4594382673533151757\n",
      "7911140825057110936\n",
      "1697113614088513325\n"
     ]
    }
   ],
   "source": [
    "for i in hash_table.hash.unique()[:10]:\n",
    "    print(i)"
   ]
  },
  {
   "cell_type": "code",
   "execution_count": 92,
   "metadata": {},
   "outputs": [
    {
     "name": "stdout",
     "output_type": "stream",
     "text": [
      "0.3300907611846924\n"
     ]
    }
   ],
   "source": [
    "output=[]\n",
    "start=time.time()\n",
    "# for i,j in enumerate(hash_table.hash.unique()):\n",
    "#     if i%1000==0:\n",
    "#         output.append(j)\n",
    "output=[j for i,j in enumerate(hash_table.hash.unique()) if i%1000==0]\n",
    "end=time.time()\n",
    "print(end-start)"
   ]
  },
  {
   "cell_type": "code",
   "execution_count": 84,
   "metadata": {},
   "outputs": [
    {
     "data": {
      "text/plain": [
       "50"
      ]
     },
     "execution_count": 84,
     "metadata": {},
     "output_type": "execute_result"
    }
   ],
   "source": [
    "1050%1000"
   ]
  },
  {
   "cell_type": "code",
   "execution_count": 72,
   "metadata": {},
   "outputs": [],
   "source": [
    "smp_list=[j for i,j in enumerate(hash_table.hash.unique()) if i%1000==0]"
   ]
  },
  {
   "cell_type": "code",
   "execution_count": 75,
   "metadata": {},
   "outputs": [
    {
     "data": {
      "text/plain": [
       "0.6944444444444444"
      ]
     },
     "execution_count": 75,
     "metadata": {},
     "output_type": "execute_result"
    }
   ],
   "source": [
    "2.5*1000/3600"
   ]
  },
  {
   "cell_type": "code",
   "execution_count": 74,
   "metadata": {},
   "outputs": [
    {
     "name": "stdout",
     "output_type": "stream",
     "text": [
      "2.548079013824463\n"
     ]
    }
   ],
   "source": [
    "start=time.time()\n",
    "pool = Pool(processes=os.cpu_count())\n",
    "grand_output=pool.map(process_func, smp_list)\n",
    "pool.close()\n",
    "pool.join()\n",
    "end=time.time()\n",
    "print(end-start)"
   ]
  },
  {
   "cell_type": "code",
   "execution_count": 69,
   "metadata": {},
   "outputs": [
    {
     "data": {
      "text/plain": [
       "1580698"
      ]
     },
     "execution_count": 69,
     "metadata": {},
     "output_type": "execute_result"
    }
   ],
   "source": [
    "hash_table.hash.nunique()"
   ]
  },
  {
   "cell_type": "code",
   "execution_count": 70,
   "metadata": {},
   "outputs": [],
   "source": [
    "gg=[item for sublist in grand_output for item in sublist]"
   ]
  },
  {
   "cell_type": "code",
   "execution_count": 71,
   "metadata": {},
   "outputs": [
    {
     "data": {
      "text/plain": [
       "1674"
      ]
     },
     "execution_count": 71,
     "metadata": {},
     "output_type": "execute_result"
    }
   ],
   "source": [
    "len(list(set(gg)))"
   ]
  },
  {
   "cell_type": "code",
   "execution_count": null,
   "metadata": {},
   "outputs": [],
   "source": [
    "with open('data/grand_output.pkl', 'wb') as f:\n",
    "    pickle.dump(grand_output, f)"
   ]
  },
  {
   "cell_type": "code",
   "execution_count": null,
   "metadata": {},
   "outputs": [],
   "source": []
  }
 ],
 "metadata": {
  "kernelspec": {
   "display_name": "Python 3",
   "language": "python",
   "name": "python3"
  },
  "language_info": {
   "codemirror_mode": {
    "name": "ipython",
    "version": 3
   },
   "file_extension": ".py",
   "mimetype": "text/x-python",
   "name": "python",
   "nbconvert_exporter": "python",
   "pygments_lexer": "ipython3",
   "version": "3.7.7"
  }
 },
 "nbformat": 4,
 "nbformat_minor": 4
}
